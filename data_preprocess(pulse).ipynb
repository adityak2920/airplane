{
 "cells": [
  {
   "cell_type": "code",
   "execution_count": 1,
   "metadata": {},
   "outputs": [],
   "source": [
    "import os\n",
    "import shutil\n",
    "import random"
   ]
  },
  {
   "cell_type": "code",
   "execution_count": 2,
   "metadata": {},
   "outputs": [],
   "source": [
    "# creating a dictionary for mapping variants to it's family \n",
    "family = open(\"/Users/adityakumar/Downloads/Retail Pulse ML Assignment Data/images_family_train.txt\")\n",
    "variant = open(\"/Users/adityakumar/Downloads/Retail Pulse ML Assignment Data/images_variant_train.txt\")\n",
    "variant_family = {}\n",
    "for i in zip(family, variant):\n",
    "    var = \" \".join(j for j in i[1].strip().split()[1:])\n",
    "    if var in variant_family.keys():\n",
    "        fam = \" \".join(j for j in i[0].strip().split()[1:])\n",
    "        variant_family[var] = fam\n",
    "    else:\n",
    "        variant_family[var] = \"\"\n"
   ]
  },
  {
   "cell_type": "code",
   "execution_count": 3,
   "metadata": {},
   "outputs": [],
   "source": [
    "# making a list to store names of unique variants\n",
    "un_var = []\n",
    "un_variants = open(\"/Users/adityakumar/Downloads/Retail Pulse ML Assignment Data/variants.txt\")\n",
    "for i in un_variants:\n",
    "    un_var.append(i.strip())"
   ]
  },
  {
   "cell_type": "markdown",
   "metadata": {},
   "source": [
    "    Now, I am creating dataset according to folders means for each class there will be a separate folder"
   ]
  },
  {
   "cell_type": "code",
   "execution_count": 16,
   "metadata": {},
   "outputs": [
    {
     "name": "stdout",
     "output_type": "stream",
     "text": [
      ".DS_Store\n"
     ]
    }
   ],
   "source": [
    "# creating train folder containing folders according to family name(class)\n",
    "un_n=0 # just a counter for unique name\n",
    "for i in os.listdir(\"/Users/adityakumar/Downloads/Retail Pulse ML Assignment Data/train\"):\n",
    "    try:\n",
    "        fam = variant_family[un_var[int(i)-1]] # name of family\n",
    "    except ValueError: # to skip .Ds_Store file in mac\n",
    "        print(i)\n",
    "        continue\n",
    "    s = \"/Users/adityakumar/Downloads/Retail Pulse ML Assignment Data/train/\"+i\n",
    "    if fam == \"F/A-18\":  # this will create a subdirectory name A-18 instead of F/A-18, so changed it's name\n",
    "        fam = \"F_A-18\"\n",
    "    d = \"/Users/adityakumar/Documents/pulse/train/\"+fam\n",
    "    \n",
    "    #copying files into the folders according to family name as a class\n",
    "    for n in os.listdir(s):\n",
    "        try:\n",
    "            shutil.copy(s+\"/\"+n, d+\"/\"+fam+\"_\"+str(un_n)+\".jpg\")\n",
    "        except FileNotFoundError:\n",
    "            os.mkdir(d)\n",
    "            shutil.copy(s+\"/\"+n, d+\"/\"+fam+\"_\"+str(un_n)+\".jpg\")\n",
    "        un_n+=1"
   ]
  },
  {
   "cell_type": "code",
   "execution_count": 17,
   "metadata": {},
   "outputs": [],
   "source": [
    "# creating train folder containing folders according to family name(class)\n",
    "un_n=0 # just a counter for unique name\n",
    "for i in os.listdir(\"/Users/adityakumar/Downloads/Retail Pulse ML Assignment Data/val\"):\n",
    "    try:\n",
    "        fam = variant_family[un_var[int(i)-1]] # name of family\n",
    "    except ValueError: # to skip .Ds_Store file in mac\n",
    "        print(i)\n",
    "        continue\n",
    "    s = \"/Users/adityakumar/Downloads/Retail Pulse ML Assignment Data/val/\"+i\n",
    "    if fam == \"F/A-18\":  # this will create a subdirectory name A-18 instead of F/A-18, so changed it's name\n",
    "        fam = \"F_A-18\"\n",
    "    d = \"/Users/adityakumar/Documents/pulse/val/\"+fam\n",
    "    \n",
    "    #copying files into the folders according to family name as a class\n",
    "    for n in os.listdir(s):\n",
    "        try:\n",
    "            shutil.copy(s+\"/\"+n, d+\"/\"+fam+\"_\"+str(un_n)+\".jpg\")\n",
    "        except FileNotFoundError:\n",
    "            os.mkdir(d)\n",
    "            shutil.copy(s+\"/\"+n, d+\"/\"+fam+\"_\"+str(un_n)+\".jpg\")\n",
    "        un_n+=1"
   ]
  },
  {
   "cell_type": "code",
   "execution_count": 18,
   "metadata": {},
   "outputs": [
    {
     "name": "stdout",
     "output_type": "stream",
     "text": [
      "3333 3334\n"
     ]
    }
   ],
   "source": [
    "vsum=0\n",
    "for h in os.listdir(\"/Users/adityakumar/Documents/pulse/val\"):\n",
    "    try:\n",
    "        vsum+=len(os.listdir(\"/Users/adityakumar/Documents/pulse/val/\"+h))\n",
    "    except NotADirectoryError:\n",
    "        continue\n",
    "\n",
    "tsum=0\n",
    "for h in os.listdir(\"/Users/adityakumar/Documents/pulse/train\"):\n",
    "    try:\n",
    "        tsum+=len(os.listdir(\"/Users/adityakumar/Documents/pulse/train/\"+h))\n",
    "    except NotADirectoryError:\n",
    "        continue\n",
    "\n",
    "print(vsum, tsum)"
   ]
  },
  {
   "cell_type": "markdown",
   "metadata": {},
   "source": [
    "    So we are getting same no. of images given in original dataset. There is one extra due to .Ds_Store folder"
   ]
  },
  {
   "cell_type": "code",
   "execution_count": null,
   "metadata": {},
   "outputs": [],
   "source": []
  }
 ],
 "metadata": {
  "kernelspec": {
   "display_name": "Python 3",
   "language": "python",
   "name": "python3"
  },
  "language_info": {
   "codemirror_mode": {
    "name": "ipython",
    "version": 3
   },
   "file_extension": ".py",
   "mimetype": "text/x-python",
   "name": "python",
   "nbconvert_exporter": "python",
   "pygments_lexer": "ipython3",
   "version": "3.7.6"
  }
 },
 "nbformat": 4,
 "nbformat_minor": 2
}
